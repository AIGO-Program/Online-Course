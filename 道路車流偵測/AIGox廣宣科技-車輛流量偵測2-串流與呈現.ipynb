{
  "nbformat": 4,
  "nbformat_minor": 0,
  "metadata": {
    "colab": {
      "name": "廣宣科技 Video Colab.ipynb",
      "provenance": [],
      "collapsed_sections": []
    },
    "kernelspec": {
      "name": "python3",
      "display_name": "Python 3"
    },
    "accelerator": "GPU"
  },
  "cells": [
    {
      "cell_type": "markdown",
      "metadata": {
        "id": "GshN30XINtJM",
        "colab_type": "text"
      },
      "source": [
        "## 廣宣學堂 / 廣宣科技 Video Colab\n",
        "## 在 Colab 顯示即時影像\n",
        "\n",
        "我們透過下面這一個函式來將 frame 統一轉為 jpeg 格式，\n",
        "為了加快執行速度，我們使用 io.BytesIO 讓每幀影像用 byte 格式存入記憶體，\n",
        "然後將其從 ioBytes IO 讀出，使用 ipython 的 display 的函式顯示在畫面上。\n",
        "\n",
        "我們使用 colab，會比一般本機端的 Jupyter notebook 還多出一段前後端的網路傳輸延遲。使用這樣記憶體存放的方式會讓效率更好。"
      ]
    },
    {
      "cell_type": "code",
      "metadata": {
        "id": "JM3vddEkKQIF",
        "colab_type": "code",
        "colab": {}
      },
      "source": [
        "import io\n",
        "import IPython.display\n",
        "\n",
        "def showarray(frame):\n",
        "    # 參考 https://docs.python.org/3/library/io.html\n",
        "    # 轉換為 jpeg 格式\n",
        "    try:\n",
        "      with io.BytesIO(cv2.imencode('.JPEG', frame)[1]) as f:\n",
        "      # 參考 https://ipython.readthedocs.io/en/stable/\n",
        "        IPython.display.display(IPython.display.Image(data=f.getvalue()))  \n",
        "    except:\n",
        "      pass"
      ],
      "execution_count": 0,
      "outputs": []
    },
    {
      "cell_type": "markdown",
      "metadata": {
        "id": "oH4zzPnVuI1r",
        "colab_type": "text"
      },
      "source": [
        "## 實際讀入串流並且顯示在 colab 畫面"
      ]
    },
    {
      "cell_type": "code",
      "metadata": {
        "id": "_9q4ukpzKbE9",
        "colab_type": "code",
        "outputId": "915193db-06cb-4c57-8dcc-9823016eb63e",
        "colab": {
          "base_uri": "https://localhost:8080/",
          "height": 34
        }
      },
      "source": [
        "import cv2\n",
        "\n",
        "# 使用 cv2 讀入來源端的串流網址\n",
        "cam = cv2.VideoCapture(\"http://117.56.11.140:8601/Interface/Cameras/GetJPEGStream?Camera=C205&AuthUser=web&cache=8e711aca2c\")\n",
        "\n",
        "# 使用 curl 抓下遠端影像檔後用 cv2 讀入\n",
        "#!curl -o sample.mp4 https://learnml.s3.eu-north-1.amazonaws.com/road.mp4 \n",
        "#cam = cv2.VideoCapture(\"sample.mp4\")\n",
        "\n",
        "try:\n",
        "    while(True):\n",
        "        # 由 CV2 VideoCapture 源頭一張張讀入\n",
        "        _, frame = cam.read()\n",
        "        # 調整成我們想要的固定大小，這樣的尺寸執行兼具可觀察與效率兩方面，學員可以自行調整\n",
        "        frame = cv2.resize(frame,(640,360)) \n",
        "        # 把讀入的 frame 透過我們的顯示函式顯示出來\n",
        "        showarray(frame)\n",
        "\n",
        "        # 新的畫面出來即清除前畫面，造成動畫效果，wait 參數是等待真正要更新時才清除\n",
        "        IPython.display.clear_output(wait=True)\n",
        "\n",
        "except KeyboardInterrupt:\n",
        "    # 中斷時結束串流\n",
        "    # 釋放 camera 資源\n",
        "    cam.release()\n",
        "    print(\"結束串流\")"
      ],
      "execution_count": 0,
      "outputs": [
        {
          "output_type": "stream",
          "text": [
            "結束串流\n"
          ],
          "name": "stdout"
        }
      ]
    }
  ]
}