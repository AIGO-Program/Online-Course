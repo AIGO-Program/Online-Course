{
 "cells": [
  {
   "cell_type": "code",
   "execution_count": 1,
   "metadata": {},
   "outputs": [],
   "source": [
    "import cv2, os, sys\n",
    "import numpy as np"
   ]
  },
  {
   "cell_type": "code",
   "execution_count": 3,
   "metadata": {},
   "outputs": [],
   "source": [
    "path  = \"test_image_11.png\""
   ]
  },
  {
   "cell_type": "code",
   "execution_count": 4,
   "metadata": {},
   "outputs": [],
   "source": [
    "image = cv2.imread(path, cv2.IMREAD_GRAYSCALE)"
   ]
  },
  {
   "cell_type": "code",
   "execution_count": 5,
   "metadata": {},
   "outputs": [
    {
     "data": {
      "text/plain": [
       "array([[0, 0, 0, ..., 0, 0, 0],\n",
       "       [0, 0, 0, ..., 0, 0, 0],\n",
       "       [0, 0, 0, ..., 0, 0, 0],\n",
       "       ...,\n",
       "       [0, 0, 0, ..., 0, 0, 0],\n",
       "       [0, 0, 0, ..., 0, 0, 0],\n",
       "       [0, 0, 0, ..., 0, 0, 0]], dtype=uint8)"
      ]
     },
     "execution_count": 5,
     "metadata": {},
     "output_type": "execute_result"
    }
   ],
   "source": [
    "image"
   ]
  },
  {
   "cell_type": "code",
   "execution_count": 11,
   "metadata": {},
   "outputs": [],
   "source": [
    "size = 10\n",
    "erosion = 2"
   ]
  },
  {
   "cell_type": "code",
   "execution_count": 12,
   "metadata": {},
   "outputs": [],
   "source": [
    "    row    = image.shape[0];\n",
    "    col    = image.shape[1];\n",
    "\n",
    "    pixels = 2*size + 1;                                     ## Double and plus 1 to have an odd-sized kernel\n",
    "    kernel = np.ones((pixels,pixels),np.uint8)               ## How many pixel of extension do I get\n",
    "\n",
    "    if erosion is not False:\n",
    "        erosion = int(erosion)\n",
    "        erosion_kernel = np.ones((3,3), np.uint8)                     ## Design an odd-sized erosion kernel\n",
    "        image = cv2.erode(image, erosion_kernel, iterations=erosion)  ## How many erosion do you expect\n",
    "        image = np.where(image > 0, 255, image)                       ## Any gray-clored pixel becomes white (smoothing)\n",
    "        # Error-handler to prevent entire foreground annihilation\n",
    "        if cv2.countNonZero(image) == 0:\n",
    "            print(\"ERROR: foreground has been entirely eroded\");\n",
    "            sys.exit();\n",
    "\n",
    "    dilation  = cv2.dilate(image, kernel, iterations = 1)\n",
    "\n",
    "    dilation  = np.where(dilation == 255, 127, dilation) \t## WHITE to GRAY\n",
    "    remake    = np.where(dilation != 127, 0, dilation)\t\t## Smoothing\n",
    "    remake    = np.where(image > 127, 200, dilation)\t\t## mark the tumor inside GRAY\n",
    "\n",
    "    remake    = np.where(remake < 127, 0, remake)\t\t## Embelishment\n",
    "    remake    = np.where(remake > 200, 0, remake)\t\t## Embelishment\n",
    "    remake    = np.where(remake == 200, 255, remake)\t\t## GRAY to WHITE\n",
    "\n",
    "    #############################################\n",
    "    # Ensures only three pixel values available #\n",
    "    # TODO: Optimization with Cython            #\n",
    "    #############################################    \n",
    "    for i in range(0,row):\n",
    "        for j in range (0,col):\n",
    "            if (remake[i,j] != 0 and remake[i,j] != 255):\n",
    "                remake[i,j] = 127;"
   ]
  },
  {
   "cell_type": "code",
   "execution_count": 13,
   "metadata": {},
   "outputs": [
    {
     "data": {
      "text/plain": [
       "array([[0, 0, 0, ..., 0, 0, 0],\n",
       "       [0, 0, 0, ..., 0, 0, 0],\n",
       "       [0, 0, 0, ..., 0, 0, 0],\n",
       "       ...,\n",
       "       [0, 0, 0, ..., 0, 0, 0],\n",
       "       [0, 0, 0, ..., 0, 0, 0],\n",
       "       [0, 0, 0, ..., 0, 0, 0]], dtype=uint8)"
      ]
     },
     "execution_count": 13,
     "metadata": {},
     "output_type": "execute_result"
    }
   ],
   "source": [
    "remake"
   ]
  },
  {
   "cell_type": "code",
   "execution_count": 14,
   "metadata": {},
   "outputs": [],
   "source": [
    "from PIL import Image"
   ]
  },
  {
   "cell_type": "code",
   "execution_count": 10,
   "metadata": {},
   "outputs": [
    {
     "data": {
      "image/png": "[encoded data removed]",
      "text/plain": [
       "<PIL.Image.Image image mode=L size=160x160 at 0x7FB429E08250>"
      ]
     },
     "execution_count": 10,
     "metadata": {},
     "output_type": "execute_result"
    }
   ],
   "source": [
    "Image.fromarray(remake)"
   ]
  },
  {
   "cell_type": "code",
   "execution_count": 15,
   "metadata": {},
   "outputs": [
    {
     "data": {
      "image/png": "[encoded data removed]",
      "text/plain": [
       "<PIL.Image.Image image mode=L size=160x160 at 0x7FB42910F510>"
      ]
     },
     "execution_count": 15,
     "metadata": {},
     "output_type": "execute_result"
    }
   ],
   "source": [
    "Image.fromarray(remake)"
   ]
  },
  {
   "cell_type": "code",
   "execution_count": null,
   "metadata": {},
   "outputs": [],
   "source": [
    "\n",
    "\n",
    "def extractImage(path):\n",
    "    # error handller if the intended path is not found\n",
    "    image = cv2.imread(path, cv2.IMREAD_GRAYSCALE);\n",
    "    return image\n",
    "\n",
    "def checkImage(image):\n",
    "    \"\"\"\n",
    "    Args:\n",
    "        image: input image to be checked\n",
    "    Returns:\n",
    "        binary image\n",
    "    Raises:\n",
    "        RGB image, grayscale image, all-black, and all-white image\n",
    "    \"\"\"\n",
    "    if len(image.shape) > 2:\n",
    "        print(\"ERROR: non-binary image (RGB)\");\n",
    "        sys.exit();\n",
    "\n",
    "    smallest = image.min(axis=0).min(axis=0); # lowest pixel value; should be 0 (black)\n",
    "    largest  = image.max(axis=0).max(axis=0); # highest pixel value; should be 1 (white)\n",
    "\n",
    "    if (smallest == 0 and largest == 0):\n",
    "        print(\"ERROR: non-binary image (all black)\");\n",
    "        sys.exit();\n",
    "    elif (smallest == 255 and largest == 255):\n",
    "        print(\"ERROR: non-binary image (all white)\");\n",
    "        sys.exit();\n",
    "    elif (smallest > 0 or largest < 255 ):\n",
    "        print(\"ERROR: non-binary image (grayscale)\");\n",
    "        sys.exit();\n",
    "    else:\n",
    "        return True\n",
    "\n",
    "class Toolbox:\n",
    "    def __init__(self, image):\n",
    "        self.image = image;\n",
    "\n",
    "    @property\n",
    "    def printImage(self):\n",
    "        \"\"\"\n",
    "        Print image into a file for checking purpose\n",
    "        unitTest = Toolbox(image);\n",
    "        unitTest.printImage(image);\n",
    "        \"\"\"\n",
    "        f = open(\"image_results.dat\", \"w+\")\n",
    "        for i in range(0, self.image.shape[0]):\n",
    "            for j in range(0, self.image.shape[1]):\n",
    "                f.write(\"%d \" %self.image[i,j])\n",
    "            f.write(\"\\n\")\n",
    "        f.close()\n",
    "        \n",
    "    @property\n",
    "    def displayImage(self):\n",
    "        \"\"\"\n",
    "        Display the image on a window\n",
    "        Press any key to exit\n",
    "        \"\"\"\n",
    "        cv2.imshow('Displayed Image', self.image);\n",
    "        cv2.waitKey(0);\n",
    "        cv2.destroyAllWindows(); \n",
    "\n",
    "    def saveImage(self, title, extension):\n",
    "        \"\"\"\n",
    "        Save as a specific image format (bmp, png, or jpeg)\n",
    "        \"\"\"\n",
    "        cv2.imwrite(\"{}.{}\".format(title,extension), self.image);        \n",
    "\n",
    "    def morph_open(self, image, kernel):\n",
    "        \"\"\"\n",
    "        Remove all white noises or speckles outside images\n",
    "        Need to tune the kernel size\n",
    "        Instruction:\n",
    "        unit01 = Toolbox(image);\n",
    "        kernel = np.ones( (9,9), np.uint8 );\n",
    "        morph  = unit01.morph_open(input_image, kernel);\n",
    "        \"\"\"\n",
    "        bin_open = cv2.morphologyEx(self.image, cv2.MORPH_OPEN, kernel)\n",
    "        return bin_open\n",
    "\n",
    "    def morph_close(self, image, kernel):\n",
    "        \"\"\"\n",
    "        Remove all black noises or speckles inside images\n",
    "        Need to tune the kernel size\n",
    "        Instruction:\n",
    "        unit01 = Toolbox(image);\n",
    "        kernel = np.ones( (11,11)_, np.uint8 );\n",
    "        morph  = unit01.morph_close(input_image, kernel);\n",
    "        \"\"\"        \n",
    "        bin_close = cv2.morphologyEx(self.image, cv2.MORPH_CLOSE, kernel)\n",
    "        return bin_close\n",
    "\n",
    "\n",
    "def trimap(image, name, size, number, erosion=False):\n",
    "    \"\"\"\n",
    "    This function creates a trimap based on simple dilation algorithm\n",
    "    Inputs [4]: a binary image (black & white only), name of the image, dilation pixels\n",
    "                the last argument is optional; i.e., how many iterations will the image get eroded\n",
    "    Output    : a trimap\n",
    "    \"\"\"\n",
    "    checkImage(image);\n",
    "    \n",
    "    row    = image.shape[0];\n",
    "    col    = image.shape[1];\n",
    "\n",
    "    pixels = 2*size + 1;                                     ## Double and plus 1 to have an odd-sized kernel\n",
    "    kernel = np.ones((pixels,pixels),np.uint8)               ## How many pixel of extension do I get\n",
    "\n",
    "    if erosion is not False:\n",
    "        erosion = int(erosion)\n",
    "        erosion_kernel = np.ones((3,3), np.uint8)                     ## Design an odd-sized erosion kernel\n",
    "        image = cv2.erode(image, erosion_kernel, iterations=erosion)  ## How many erosion do you expect\n",
    "        image = np.where(image > 0, 255, image)                       ## Any gray-clored pixel becomes white (smoothing)\n",
    "        # Error-handler to prevent entire foreground annihilation\n",
    "        if cv2.countNonZero(image) == 0:\n",
    "            print(\"ERROR: foreground has been entirely eroded\");\n",
    "            sys.exit();\n",
    "\n",
    "    dilation  = cv2.dilate(image, kernel, iterations = 1)\n",
    "\n",
    "    dilation  = np.where(dilation == 255, 127, dilation) \t## WHITE to GRAY\n",
    "    remake    = np.where(dilation != 127, 0, dilation)\t\t## Smoothing\n",
    "    remake    = np.where(image > 127, 200, dilation)\t\t## mark the tumor inside GRAY\n",
    "\n",
    "    remake    = np.where(remake < 127, 0, remake)\t\t## Embelishment\n",
    "    remake    = np.where(remake > 200, 0, remake)\t\t## Embelishment\n",
    "    remake    = np.where(remake == 200, 255, remake)\t\t## GRAY to WHITE\n",
    "\n",
    "    #############################################\n",
    "    # Ensures only three pixel values available #\n",
    "    # TODO: Optimization with Cython            #\n",
    "    #############################################    \n",
    "    for i in range(0,row):\n",
    "        for j in range (0,col):\n",
    "            if (remake[i,j] != 0 and remake[i,j] != 255):\n",
    "                remake[i,j] = 127;\n",
    "\n",
    "    path = \"./images/results/\"                                  ## Change the directory\n",
    "    new_name = '{}px_'.format(size) + name + '_{}.png'.format(number);\n",
    "    cv2.imwrite(os.path.join(path , new_name) , remake)\n",
    "\n",
    "\n",
    "#############################################\n",
    "###             TESTING SECTION           ###\n",
    "#############################################\n",
    "if __name__ == '__main__':\n",
    "\n",
    "    path  = \"./images/test_images/test_image_11.png\";\n",
    "    image = extractImage(path)\n",
    "\n",
    "    size = 10;\n",
    "    number = path[-5];\n",
    "    title = \"test_image\"\n",
    "\n",
    "    unit01  = Toolbox(image);\n",
    "    kernel1 = np.ones( (11,11), np.uint8 );\n",
    "    unit01.displayImage;\n",
    "    \n",
    "    opening = unit01.morph_close(image,kernel1);\n",
    "    trimap(opening, title, size, number, erosion=False);\n",
    "    unit02  = Toolbox(opening);\n",
    "    unit02.displayImage;\n",
    "\n",
    "    ########################################################\n",
    "    ## Default instruction (no binary opening or closing  ##\n",
    "    ## trimap(image, title, size, number, erosion=False); ##\n",
    "    ########################################################"
   ]
  },
  {
   "cell_type": "code",
   "execution_count": null,
   "metadata": {},
   "outputs": [],
   "source": []
  }
 ],
 "metadata": {
  "kernelspec": {
   "display_name": "python3.7",
   "language": "python",
   "name": "python3.7"
  },
  "language_info": {
   "codemirror_mode": {
    "name": "ipython",
    "version": 3
   },
   "file_extension": ".py",
   "mimetype": "text/x-python",
   "name": "python",
   "nbconvert_exporter": "python",
   "pygments_lexer": "ipython3",
   "version": "3.7.4"
  }
 },
 "nbformat": 4,
 "nbformat_minor": 2
}
