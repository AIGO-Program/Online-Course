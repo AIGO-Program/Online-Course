{
 "cells": [
  {
   "cell_type": "markdown",
   "metadata": {},
   "source": [
    "### Freeze model"
   ]
  },
  {
   "cell_type": "code",
   "execution_count": 1,
   "metadata": {},
   "outputs": [
    {
     "name": "stderr",
     "output_type": "stream",
     "text": [
      "c:\\users\\kevin\\anaconda3\\envs\\tf_kevin\\lib\\site-packages\\tensorflow\\python\\framework\\dtypes.py:516: FutureWarning: Passing (type, 1) or '1type' as a synonym of type is deprecated; in a future version of numpy, it will be understood as (type, (1,)) / '(1,)type'.\n",
      "  _np_qint8 = np.dtype([(\"qint8\", np.int8, 1)])\n",
      "c:\\users\\kevin\\anaconda3\\envs\\tf_kevin\\lib\\site-packages\\tensorflow\\python\\framework\\dtypes.py:517: FutureWarning: Passing (type, 1) or '1type' as a synonym of type is deprecated; in a future version of numpy, it will be understood as (type, (1,)) / '(1,)type'.\n",
      "  _np_quint8 = np.dtype([(\"quint8\", np.uint8, 1)])\n",
      "c:\\users\\kevin\\anaconda3\\envs\\tf_kevin\\lib\\site-packages\\tensorflow\\python\\framework\\dtypes.py:518: FutureWarning: Passing (type, 1) or '1type' as a synonym of type is deprecated; in a future version of numpy, it will be understood as (type, (1,)) / '(1,)type'.\n",
      "  _np_qint16 = np.dtype([(\"qint16\", np.int16, 1)])\n",
      "c:\\users\\kevin\\anaconda3\\envs\\tf_kevin\\lib\\site-packages\\tensorflow\\python\\framework\\dtypes.py:519: FutureWarning: Passing (type, 1) or '1type' as a synonym of type is deprecated; in a future version of numpy, it will be understood as (type, (1,)) / '(1,)type'.\n",
      "  _np_quint16 = np.dtype([(\"quint16\", np.uint16, 1)])\n",
      "c:\\users\\kevin\\anaconda3\\envs\\tf_kevin\\lib\\site-packages\\tensorflow\\python\\framework\\dtypes.py:520: FutureWarning: Passing (type, 1) or '1type' as a synonym of type is deprecated; in a future version of numpy, it will be understood as (type, (1,)) / '(1,)type'.\n",
      "  _np_qint32 = np.dtype([(\"qint32\", np.int32, 1)])\n",
      "c:\\users\\kevin\\anaconda3\\envs\\tf_kevin\\lib\\site-packages\\tensorflow\\python\\framework\\dtypes.py:525: FutureWarning: Passing (type, 1) or '1type' as a synonym of type is deprecated; in a future version of numpy, it will be understood as (type, (1,)) / '(1,)type'.\n",
      "  np_resource = np.dtype([(\"resource\", np.ubyte, 1)])\n",
      "c:\\users\\kevin\\anaconda3\\envs\\tf_kevin\\lib\\site-packages\\tensorboard\\compat\\tensorflow_stub\\dtypes.py:541: FutureWarning: Passing (type, 1) or '1type' as a synonym of type is deprecated; in a future version of numpy, it will be understood as (type, (1,)) / '(1,)type'.\n",
      "  _np_qint8 = np.dtype([(\"qint8\", np.int8, 1)])\n",
      "c:\\users\\kevin\\anaconda3\\envs\\tf_kevin\\lib\\site-packages\\tensorboard\\compat\\tensorflow_stub\\dtypes.py:542: FutureWarning: Passing (type, 1) or '1type' as a synonym of type is deprecated; in a future version of numpy, it will be understood as (type, (1,)) / '(1,)type'.\n",
      "  _np_quint8 = np.dtype([(\"quint8\", np.uint8, 1)])\n",
      "c:\\users\\kevin\\anaconda3\\envs\\tf_kevin\\lib\\site-packages\\tensorboard\\compat\\tensorflow_stub\\dtypes.py:543: FutureWarning: Passing (type, 1) or '1type' as a synonym of type is deprecated; in a future version of numpy, it will be understood as (type, (1,)) / '(1,)type'.\n",
      "  _np_qint16 = np.dtype([(\"qint16\", np.int16, 1)])\n",
      "c:\\users\\kevin\\anaconda3\\envs\\tf_kevin\\lib\\site-packages\\tensorboard\\compat\\tensorflow_stub\\dtypes.py:544: FutureWarning: Passing (type, 1) or '1type' as a synonym of type is deprecated; in a future version of numpy, it will be understood as (type, (1,)) / '(1,)type'.\n",
      "  _np_quint16 = np.dtype([(\"quint16\", np.uint16, 1)])\n",
      "c:\\users\\kevin\\anaconda3\\envs\\tf_kevin\\lib\\site-packages\\tensorboard\\compat\\tensorflow_stub\\dtypes.py:545: FutureWarning: Passing (type, 1) or '1type' as a synonym of type is deprecated; in a future version of numpy, it will be understood as (type, (1,)) / '(1,)type'.\n",
      "  _np_qint32 = np.dtype([(\"qint32\", np.int32, 1)])\n",
      "c:\\users\\kevin\\anaconda3\\envs\\tf_kevin\\lib\\site-packages\\tensorboard\\compat\\tensorflow_stub\\dtypes.py:550: FutureWarning: Passing (type, 1) or '1type' as a synonym of type is deprecated; in a future version of numpy, it will be understood as (type, (1,)) / '(1,)type'.\n",
      "  np_resource = np.dtype([(\"resource\", np.ubyte, 1)])\n"
     ]
    }
   ],
   "source": [
    "import tensorflow as tf"
   ]
  },
  {
   "cell_type": "code",
   "execution_count": 2,
   "metadata": {},
   "outputs": [
    {
     "name": "stdout",
     "output_type": "stream",
     "text": [
      "WARNING:tensorflow:From c:\\users\\kevin\\anaconda3\\envs\\tf_kevin\\lib\\site-packages\\tensorflow\\python\\training\\saver.py:1276: checkpoint_exists (from tensorflow.python.training.checkpoint_management) is deprecated and will be removed in a future version.\n",
      "Instructions for updating:\n",
      "Use standard file APIs to check for files with this prefix.\n",
      "INFO:tensorflow:Restoring parameters from ./model/lstm_model\n",
      "WARNING:tensorflow:From <ipython-input-2-3a85f23f09e1>:22: convert_variables_to_constants (from tensorflow.python.framework.graph_util_impl) is deprecated and will be removed in a future version.\n",
      "Instructions for updating:\n",
      "Use `tf.compat.v1.graph_util.convert_variables_to_constants`\n",
      "WARNING:tensorflow:From c:\\users\\kevin\\anaconda3\\envs\\tf_kevin\\lib\\site-packages\\tensorflow\\python\\framework\\graph_util_impl.py:270: extract_sub_graph (from tensorflow.python.framework.graph_util_impl) is deprecated and will be removed in a future version.\n",
      "Instructions for updating:\n",
      "Use `tf.compat.v1.graph_util.extract_sub_graph`\n",
      "INFO:tensorflow:Froze 5 variables.\n",
      "INFO:tensorflow:Converted 5 variables to const ops.\n",
      "306 ops in the final graph.\n"
     ]
    }
   ],
   "source": [
    "with tf.Session() as sess:\n",
    "\n",
    "    #初始化variable\n",
    "    sess.run(tf.global_variables_initializer())\n",
    "\n",
    "    #擷取最新的checkpoint\n",
    "    latest_ckpt = tf.train.latest_checkpoint('./model/')\n",
    "\n",
    "    #載入graph\n",
    "    restore_saver = tf.train.import_meta_graph('./model/lstm_model.meta')\n",
    "\n",
    "    #恢复图，即将weights等参数加入图对应位置中\n",
    "    restore_saver.restore(sess, latest_ckpt)\n",
    "    #print(tf.get_collection('training_collection'))  # get_collection返回list，裡面存放訓練模型時候的變數\n",
    "\n",
    "    #列印operation\n",
    "    #for op in tf.get_default_graph().get_operations():\n",
    "    #    print(op.name, op.values())\n",
    "        \n",
    "    #graph variable轉為常量\n",
    "    output_graph_def = tf.graph_util.convert_variables_to_constants(\n",
    "        sess, sess.graph_def, [\"output_layer/class_probability\"] )\n",
    "    \n",
    "    #graph寫入pb file\n",
    "    model_f = tf.gfile.GFile(\"./model/frozen_model.pb\",\"wb\")\n",
    "    model_f.write(output_graph_def.SerializeToString())\n",
    "    print ('{} ops in the final graph.'.format(len(output_graph_def.node)))"
   ]
  },
  {
   "cell_type": "code",
   "execution_count": 3,
   "metadata": {},
   "outputs": [
    {
     "data": {
      "text/plain": [
       "\"Extract the sub graph defined by the output nodes and convert \\nall its variables into constant \\nArgs:\\n    model_dir: the root folder containing the checkpoint state file\\n    output_node_names: a string, containing all the output node's names, \\n                        comma separated\\n\""
      ]
     },
     "execution_count": 3,
     "metadata": {},
     "output_type": "execute_result"
    }
   ],
   "source": [
    "#def freeze_graph(model_dir, output_node_names):\n",
    "\"\"\"Extract the sub graph defined by the output nodes and convert \n",
    "all its variables into constant \n",
    "Args:\n",
    "    model_dir: the root folder containing the checkpoint state file\n",
    "    output_node_names: a string, containing all the output node's names, \n",
    "                        comma separated\n",
    "\"\"\"\n",
    "# model_dir = \"./model/\"\n",
    "\n",
    "# # We retrieve our checkpoint fullpath\n",
    "# checkpoint = tf.train.get_checkpoint_state(model_dir)\n",
    "# input_checkpoint = checkpoint.model_checkpoint_path\n",
    "# print(\"input_checkpoint: \", input_checkpoint)\n",
    "\n",
    "# # We precise the file fullname of our freezed graph\n",
    "# #absolute_model_dir = \"/\".join(input_checkpoint.split('/')[:-1])\n",
    "# output_graph = \"./model/frozen_model.pb\"\n",
    "\n",
    "# # We clear devices to allow TensorFlow to control on which device it will load operations\n",
    "# clear_devices = True\n",
    "\n",
    "# # We start a session using a temporary fresh Graph\n",
    "# with tf.Session(graph=tf.Graph()) as sess:\n",
    "#     # We import the meta graph in the current default Graph\n",
    "#     saver = tf.train.import_meta_graph(input_checkpoint + '.meta', clear_devices=clear_devices)\n",
    "\n",
    "#     # We restore the weights\n",
    "#     saver.restore(sess, input_checkpoint)\n",
    "\n",
    "#     # We use a built-in TF helper to export variables to constants\n",
    "#     output_graph_def = tf.graph_util.convert_variables_to_constants(\n",
    "#         sess, # The session is used to retrieve the weights\n",
    "#         tf.get_default_graph().as_graph_def(), # The graph_def is used to retrieve the nodes \n",
    "#         output_node_names.split(\",\") # The output node names are used to select the usefull nodes\n",
    "#     ) \n",
    "\n",
    "#     # Finally we serialize and dump the output graph to the filesystem\n",
    "#     with tf.gfile.GFile(output_graph, \"wb\") as f:\n",
    "#         f.write(output_graph_def.SerializeToString())\n",
    "#     print(\"%d ops in the final graph.\" % len(output_graph_def.node))\n",
    "\n",
    "# #    return output_graph_def"
   ]
  }
 ],
 "metadata": {
  "kernelspec": {
   "display_name": "Python 3",
   "language": "python",
   "name": "python3"
  },
  "language_info": {
   "codemirror_mode": {
    "name": "ipython",
    "version": 3
   },
   "file_extension": ".py",
   "mimetype": "text/x-python",
   "name": "python",
   "nbconvert_exporter": "python",
   "pygments_lexer": "ipython3",
   "version": "3.6.7"
  }
 },
 "nbformat": 4,
 "nbformat_minor": 2
}
